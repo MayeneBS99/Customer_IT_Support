{
 "cells": [
  {
   "cell_type": "code",
   "execution_count": 24,
   "metadata": {},
   "outputs": [],
   "source": [
    "# librairies loading\n",
    "\n",
    "import kagglehub\n",
    "import os\n",
    "\n",
    "import re\n",
    "import nltk\n",
    "import numpy as np\n",
    "import pandas as pd\n",
    "\n"
   ]
  },
  {
   "cell_type": "markdown",
   "metadata": {},
   "source": [
    "# 1-) Preprocessing"
   ]
  },
  {
   "cell_type": "code",
   "execution_count": 3,
   "metadata": {},
   "outputs": [
    {
     "name": "stdout",
     "output_type": "stream",
     "text": [
      "C:\\Users\\mayen\\.cache\\kagglehub\\datasets\\tobiasbueck\\multilingual-customer-support-tickets\\versions\\12\n"
     ]
    }
   ],
   "source": [
    "# load dataset\n",
    "\n",
    "path = kagglehub.dataset_download(\"tobiasbueck/multilingual-customer-support-tickets\")\n",
    "print(path)"
   ]
  },
  {
   "cell_type": "code",
   "execution_count": 4,
   "metadata": {},
   "outputs": [
    {
     "name": "stdout",
     "output_type": "stream",
     "text": [
      "Found file: aa_dataset-tickets-multi-lang-5-2-50-version.csv\n",
      "Found file: dataset-tickets-german_normalized.csv\n",
      "Found file: dataset-tickets-german_normalized_50_5_2.csv\n",
      "Found file: dataset-tickets-multi-lang-4-20k.csv\n",
      "Found file: dataset-tickets-multi-lang3-4k.csv\n"
     ]
    }
   ],
   "source": [
    "for root, dirs, files in os.walk(path):\n",
    "    for file in files:\n",
    "        print(f\"Found file: {file}\")"
   ]
  },
  {
   "cell_type": "code",
   "execution_count": 4,
   "metadata": {},
   "outputs": [
    {
     "data": {
      "text/html": [
       "<div>\n",
       "<style scoped>\n",
       "    .dataframe tbody tr th:only-of-type {\n",
       "        vertical-align: middle;\n",
       "    }\n",
       "\n",
       "    .dataframe tbody tr th {\n",
       "        vertical-align: top;\n",
       "    }\n",
       "\n",
       "    .dataframe thead th {\n",
       "        text-align: right;\n",
       "    }\n",
       "</style>\n",
       "<table border=\"1\" class=\"dataframe\">\n",
       "  <thead>\n",
       "    <tr style=\"text-align: right;\">\n",
       "      <th></th>\n",
       "      <th>subject</th>\n",
       "      <th>body</th>\n",
       "      <th>answer</th>\n",
       "      <th>type</th>\n",
       "      <th>queue</th>\n",
       "      <th>priority</th>\n",
       "      <th>language</th>\n",
       "      <th>version</th>\n",
       "      <th>tag_1</th>\n",
       "      <th>tag_2</th>\n",
       "      <th>tag_3</th>\n",
       "      <th>tag_4</th>\n",
       "      <th>tag_5</th>\n",
       "      <th>tag_6</th>\n",
       "      <th>tag_7</th>\n",
       "      <th>tag_8</th>\n",
       "    </tr>\n",
       "  </thead>\n",
       "  <tbody>\n",
       "    <tr>\n",
       "      <th>0</th>\n",
       "      <td>Wesentlicher Sicherheitsvorfall</td>\n",
       "      <td>Sehr geehrtes Support-Team,\\n\\nich möchte eine...</td>\n",
       "      <td>Vielen Dank für die Meldung des kritischen Sic...</td>\n",
       "      <td>Incident</td>\n",
       "      <td>Technical Support</td>\n",
       "      <td>high</td>\n",
       "      <td>de</td>\n",
       "      <td>51</td>\n",
       "      <td>Security</td>\n",
       "      <td>Outage</td>\n",
       "      <td>Disruption</td>\n",
       "      <td>Data Breach</td>\n",
       "      <td>NaN</td>\n",
       "      <td>NaN</td>\n",
       "      <td>NaN</td>\n",
       "      <td>NaN</td>\n",
       "    </tr>\n",
       "    <tr>\n",
       "      <th>1</th>\n",
       "      <td>Account Disruption</td>\n",
       "      <td>Dear Customer Support Team,\\n\\nI am writing to...</td>\n",
       "      <td>Thank you for reaching out, &lt;name&gt;. We are awa...</td>\n",
       "      <td>Incident</td>\n",
       "      <td>Technical Support</td>\n",
       "      <td>high</td>\n",
       "      <td>en</td>\n",
       "      <td>51</td>\n",
       "      <td>Account</td>\n",
       "      <td>Disruption</td>\n",
       "      <td>Outage</td>\n",
       "      <td>IT</td>\n",
       "      <td>Tech Support</td>\n",
       "      <td>NaN</td>\n",
       "      <td>NaN</td>\n",
       "      <td>NaN</td>\n",
       "    </tr>\n",
       "    <tr>\n",
       "      <th>2</th>\n",
       "      <td>Query About Smart Home System Integration Feat...</td>\n",
       "      <td>Dear Customer Support Team,\\n\\nI hope this mes...</td>\n",
       "      <td>Thank you for your inquiry. Our products suppo...</td>\n",
       "      <td>Request</td>\n",
       "      <td>Returns and Exchanges</td>\n",
       "      <td>medium</td>\n",
       "      <td>en</td>\n",
       "      <td>51</td>\n",
       "      <td>Product</td>\n",
       "      <td>Feature</td>\n",
       "      <td>Tech Support</td>\n",
       "      <td>NaN</td>\n",
       "      <td>NaN</td>\n",
       "      <td>NaN</td>\n",
       "      <td>NaN</td>\n",
       "      <td>NaN</td>\n",
       "    </tr>\n",
       "    <tr>\n",
       "      <th>3</th>\n",
       "      <td>Inquiry Regarding Invoice Details</td>\n",
       "      <td>Dear Customer Support Team,\\n\\nI hope this mes...</td>\n",
       "      <td>We appreciate you reaching out with your billi...</td>\n",
       "      <td>Request</td>\n",
       "      <td>Billing and Payments</td>\n",
       "      <td>low</td>\n",
       "      <td>en</td>\n",
       "      <td>51</td>\n",
       "      <td>Billing</td>\n",
       "      <td>Payment</td>\n",
       "      <td>Account</td>\n",
       "      <td>Documentation</td>\n",
       "      <td>Feedback</td>\n",
       "      <td>NaN</td>\n",
       "      <td>NaN</td>\n",
       "      <td>NaN</td>\n",
       "    </tr>\n",
       "    <tr>\n",
       "      <th>4</th>\n",
       "      <td>Question About Marketing Agency Software Compa...</td>\n",
       "      <td>Dear Support Team,\\n\\nI hope this message reac...</td>\n",
       "      <td>Thank you for your inquiry. Our product suppor...</td>\n",
       "      <td>Problem</td>\n",
       "      <td>Sales and Pre-Sales</td>\n",
       "      <td>medium</td>\n",
       "      <td>en</td>\n",
       "      <td>51</td>\n",
       "      <td>Product</td>\n",
       "      <td>Feature</td>\n",
       "      <td>Feedback</td>\n",
       "      <td>Tech Support</td>\n",
       "      <td>NaN</td>\n",
       "      <td>NaN</td>\n",
       "      <td>NaN</td>\n",
       "      <td>NaN</td>\n",
       "    </tr>\n",
       "  </tbody>\n",
       "</table>\n",
       "</div>"
      ],
      "text/plain": [
       "                                             subject  \\\n",
       "0                    Wesentlicher Sicherheitsvorfall   \n",
       "1                                 Account Disruption   \n",
       "2  Query About Smart Home System Integration Feat...   \n",
       "3                  Inquiry Regarding Invoice Details   \n",
       "4  Question About Marketing Agency Software Compa...   \n",
       "\n",
       "                                                body  \\\n",
       "0  Sehr geehrtes Support-Team,\\n\\nich möchte eine...   \n",
       "1  Dear Customer Support Team,\\n\\nI am writing to...   \n",
       "2  Dear Customer Support Team,\\n\\nI hope this mes...   \n",
       "3  Dear Customer Support Team,\\n\\nI hope this mes...   \n",
       "4  Dear Support Team,\\n\\nI hope this message reac...   \n",
       "\n",
       "                                              answer      type  \\\n",
       "0  Vielen Dank für die Meldung des kritischen Sic...  Incident   \n",
       "1  Thank you for reaching out, <name>. We are awa...  Incident   \n",
       "2  Thank you for your inquiry. Our products suppo...   Request   \n",
       "3  We appreciate you reaching out with your billi...   Request   \n",
       "4  Thank you for your inquiry. Our product suppor...   Problem   \n",
       "\n",
       "                   queue priority language  version     tag_1       tag_2  \\\n",
       "0      Technical Support     high       de       51  Security      Outage   \n",
       "1      Technical Support     high       en       51   Account  Disruption   \n",
       "2  Returns and Exchanges   medium       en       51   Product     Feature   \n",
       "3   Billing and Payments      low       en       51   Billing     Payment   \n",
       "4    Sales and Pre-Sales   medium       en       51   Product     Feature   \n",
       "\n",
       "          tag_3          tag_4         tag_5 tag_6 tag_7 tag_8  \n",
       "0    Disruption    Data Breach           NaN   NaN   NaN   NaN  \n",
       "1        Outage             IT  Tech Support   NaN   NaN   NaN  \n",
       "2  Tech Support            NaN           NaN   NaN   NaN   NaN  \n",
       "3       Account  Documentation      Feedback   NaN   NaN   NaN  \n",
       "4      Feedback   Tech Support           NaN   NaN   NaN   NaN  "
      ]
     },
     "execution_count": 4,
     "metadata": {},
     "output_type": "execute_result"
    }
   ],
   "source": [
    "data_path = os.path.join(path , \"aa_dataset-tickets-multi-lang-5-2-50-version.csv\")\n",
    "data = pd.read_csv(data_path)\n",
    "data.head()\n",
    "\n",
    "# save data in another folder\n",
    "# os.getcwd()\n",
    "# data.to_csv(os.path.join(os.getcwd(), \"../data/raw_data/raw_data.csv\"))"
   ]
  },
  {
   "cell_type": "code",
   "execution_count": 14,
   "metadata": {},
   "outputs": [
    {
     "data": {
      "text/plain": [
       "'maman_papa'"
      ]
     },
     "execution_count": 14,
     "metadata": {},
     "output_type": "execute_result"
    }
   ],
   "source": [
    "chainea = \"maman\"\n",
    "chaineb = \"papa\"\n",
    "chainea+'_'+chaineb"
   ]
  },
  {
   "cell_type": "code",
   "execution_count": 17,
   "metadata": {},
   "outputs": [
    {
     "name": "stderr",
     "output_type": "stream",
     "text": [
      "C:\\Users\\mayen\\AppData\\Local\\Temp\\ipykernel_88912\\1014220828.py:4: SettingWithCopyWarning: \n",
      "A value is trying to be set on a copy of a slice from a DataFrame.\n",
      "Try using .loc[row_indexer,col_indexer] = value instead\n",
      "\n",
      "See the caveats in the documentation: https://pandas.pydata.org/pandas-docs/stable/user_guide/indexing.html#returning-a-view-versus-a-copy\n",
      "  data_clean1[\"topic\"] = data_clean1[\"subject\"] + ' ' + data_clean1[\"body\"]\n",
      "C:\\Users\\mayen\\AppData\\Local\\Temp\\ipykernel_88912\\1014220828.py:5: SettingWithCopyWarning: \n",
      "A value is trying to be set on a copy of a slice from a DataFrame.\n",
      "Try using .loc[row_indexer,col_indexer] = value instead\n",
      "\n",
      "See the caveats in the documentation: https://pandas.pydata.org/pandas-docs/stable/user_guide/indexing.html#returning-a-view-versus-a-copy\n",
      "  data_clean1[\"type_and_priority\"] = data_clean1[\"type\"] + '_' + data_clean1[\"priority\"]\n"
     ]
    },
    {
     "data": {
      "text/html": [
       "<div>\n",
       "<style scoped>\n",
       "    .dataframe tbody tr th:only-of-type {\n",
       "        vertical-align: middle;\n",
       "    }\n",
       "\n",
       "    .dataframe tbody tr th {\n",
       "        vertical-align: top;\n",
       "    }\n",
       "\n",
       "    .dataframe thead th {\n",
       "        text-align: right;\n",
       "    }\n",
       "</style>\n",
       "<table border=\"1\" class=\"dataframe\">\n",
       "  <thead>\n",
       "    <tr style=\"text-align: right;\">\n",
       "      <th></th>\n",
       "      <th>answer</th>\n",
       "      <th>queue</th>\n",
       "      <th>topic</th>\n",
       "      <th>type_and_priority</th>\n",
       "    </tr>\n",
       "  </thead>\n",
       "  <tbody>\n",
       "    <tr>\n",
       "      <th>0</th>\n",
       "      <td>Vielen Dank für die Meldung des kritischen Sic...</td>\n",
       "      <td>Technical Support</td>\n",
       "      <td>Wesentlicher Sicherheitsvorfall Sehr geehrtes ...</td>\n",
       "      <td>Incident_high</td>\n",
       "    </tr>\n",
       "    <tr>\n",
       "      <th>1</th>\n",
       "      <td>Thank you for reaching out, &lt;name&gt;. We are awa...</td>\n",
       "      <td>Technical Support</td>\n",
       "      <td>Account Disruption Dear Customer Support Team,...</td>\n",
       "      <td>Incident_high</td>\n",
       "    </tr>\n",
       "    <tr>\n",
       "      <th>2</th>\n",
       "      <td>Thank you for your inquiry. Our products suppo...</td>\n",
       "      <td>Returns and Exchanges</td>\n",
       "      <td>Query About Smart Home System Integration Feat...</td>\n",
       "      <td>Request_medium</td>\n",
       "    </tr>\n",
       "    <tr>\n",
       "      <th>3</th>\n",
       "      <td>We appreciate you reaching out with your billi...</td>\n",
       "      <td>Billing and Payments</td>\n",
       "      <td>Inquiry Regarding Invoice Details Dear Custome...</td>\n",
       "      <td>Request_low</td>\n",
       "    </tr>\n",
       "    <tr>\n",
       "      <th>4</th>\n",
       "      <td>Thank you for your inquiry. Our product suppor...</td>\n",
       "      <td>Sales and Pre-Sales</td>\n",
       "      <td>Question About Marketing Agency Software Compa...</td>\n",
       "      <td>Problem_medium</td>\n",
       "    </tr>\n",
       "  </tbody>\n",
       "</table>\n",
       "</div>"
      ],
      "text/plain": [
       "                                              answer                  queue  \\\n",
       "0  Vielen Dank für die Meldung des kritischen Sic...      Technical Support   \n",
       "1  Thank you for reaching out, <name>. We are awa...      Technical Support   \n",
       "2  Thank you for your inquiry. Our products suppo...  Returns and Exchanges   \n",
       "3  We appreciate you reaching out with your billi...   Billing and Payments   \n",
       "4  Thank you for your inquiry. Our product suppor...    Sales and Pre-Sales   \n",
       "\n",
       "                                               topic type_and_priority  \n",
       "0  Wesentlicher Sicherheitsvorfall Sehr geehrtes ...     Incident_high  \n",
       "1  Account Disruption Dear Customer Support Team,...     Incident_high  \n",
       "2  Query About Smart Home System Integration Feat...    Request_medium  \n",
       "3  Inquiry Regarding Invoice Details Dear Custome...       Request_low  \n",
       "4  Question About Marketing Agency Software Compa...    Problem_medium  "
      ]
     },
     "execution_count": 17,
     "metadata": {},
     "output_type": "execute_result"
    }
   ],
   "source": [
    "selected_columns = ['subject','body', 'answer','type','queue','priority']\n",
    "data_clean1 = data[selected_columns]\n",
    "\n",
    "data_clean1[\"topic\"] = data_clean1[\"subject\"] + ' ' + data_clean1[\"body\"] \n",
    "data_clean1[\"type_and_priority\"] = data_clean1[\"type\"] + '_' + data_clean1[\"priority\"] \n",
    "\n",
    "data_clean1 = data_clean1.drop(columns = [\"subject\", \"body\", \"type\", \"priority\"], axis = 1)\n",
    "data_clean1.head()"
   ]
  },
  {
   "cell_type": "code",
   "execution_count": 18,
   "metadata": {},
   "outputs": [
    {
     "data": {
      "text/plain": [
       "type_and_priority\n",
       "Incident_high      4931\n",
       "Incident_medium    4373\n",
       "Request_medium     3539\n",
       "Request_high       2727\n",
       "Problem_medium     2422\n",
       "Problem_high       2351\n",
       "Incident_low       2162\n",
       "Request_low        1921\n",
       "Problem_low        1239\n",
       "Change_medium      1181\n",
       "Change_high        1169\n",
       "Change_low          572\n",
       "Name: count, dtype: int64"
      ]
     },
     "execution_count": 18,
     "metadata": {},
     "output_type": "execute_result"
    }
   ],
   "source": [
    "data_clean1[\"type_and_priority\"].value_counts()"
   ]
  },
  {
   "cell_type": "markdown",
   "metadata": {},
   "source": [
    "## 1-b ) cleaning and translation"
   ]
  },
  {
   "cell_type": "code",
   "execution_count": 29,
   "metadata": {},
   "outputs": [],
   "source": [
    "def basic_cleaning(text : str) -> str :\n",
    "    text = text.strip()\n",
    "    text = re.sub(r\"\\n+\", \" \",  text)\n",
    "    text = re.sub(r\"http\\S+|www.\\S+\", \"\",text)\n",
    "    text = re.sub(r\"[^A-Za-zÀ-ÿ0-9\\s.,!?%$€@\\-_/]\", \"\",text)\n",
    "    text = re.sub(r\"\\s+\", \" \", text)\n",
    "\n",
    "    return text.strip()\n",
    "\n",
    "data_clean1[\"topic\"] = data_clean1[\"topic\"].apply(lambda x : basic_cleaning(str(x)))\n",
    "data_clean1[\"answer\"] = data_clean1[\"answer\"].apply(lambda x : basic_cleaning(str(x)))"
   ]
  },
  {
   "cell_type": "code",
   "execution_count": 30,
   "metadata": {},
   "outputs": [
    {
     "data": {
      "text/html": [
       "<div>\n",
       "<style scoped>\n",
       "    .dataframe tbody tr th:only-of-type {\n",
       "        vertical-align: middle;\n",
       "    }\n",
       "\n",
       "    .dataframe tbody tr th {\n",
       "        vertical-align: top;\n",
       "    }\n",
       "\n",
       "    .dataframe thead th {\n",
       "        text-align: right;\n",
       "    }\n",
       "</style>\n",
       "<table border=\"1\" class=\"dataframe\">\n",
       "  <thead>\n",
       "    <tr style=\"text-align: right;\">\n",
       "      <th></th>\n",
       "      <th>answer</th>\n",
       "      <th>queue</th>\n",
       "      <th>topic</th>\n",
       "      <th>type_and_priority</th>\n",
       "    </tr>\n",
       "  </thead>\n",
       "  <tbody>\n",
       "    <tr>\n",
       "      <th>0</th>\n",
       "      <td>Vielen Dank für die Meldung des kritischen Sic...</td>\n",
       "      <td>Technical Support</td>\n",
       "      <td>Wesentlicher Sicherheitsvorfall Sehr geehrtes ...</td>\n",
       "      <td>Incident_high</td>\n",
       "    </tr>\n",
       "    <tr>\n",
       "      <th>1</th>\n",
       "      <td>Thank you for reaching out, name. We are aware...</td>\n",
       "      <td>Technical Support</td>\n",
       "      <td>Account Disruption Dear Customer Support Team,...</td>\n",
       "      <td>Incident_high</td>\n",
       "    </tr>\n",
       "    <tr>\n",
       "      <th>2</th>\n",
       "      <td>Thank you for your inquiry. Our products suppo...</td>\n",
       "      <td>Returns and Exchanges</td>\n",
       "      <td>Query About Smart Home System Integration Feat...</td>\n",
       "      <td>Request_medium</td>\n",
       "    </tr>\n",
       "    <tr>\n",
       "      <th>3</th>\n",
       "      <td>We appreciate you reaching out with your billi...</td>\n",
       "      <td>Billing and Payments</td>\n",
       "      <td>Inquiry Regarding Invoice Details Dear Custome...</td>\n",
       "      <td>Request_low</td>\n",
       "    </tr>\n",
       "    <tr>\n",
       "      <th>4</th>\n",
       "      <td>Thank you for your inquiry. Our product suppor...</td>\n",
       "      <td>Sales and Pre-Sales</td>\n",
       "      <td>Question About Marketing Agency Software Compa...</td>\n",
       "      <td>Problem_medium</td>\n",
       "    </tr>\n",
       "  </tbody>\n",
       "</table>\n",
       "</div>"
      ],
      "text/plain": [
       "                                              answer                  queue  \\\n",
       "0  Vielen Dank für die Meldung des kritischen Sic...      Technical Support   \n",
       "1  Thank you for reaching out, name. We are aware...      Technical Support   \n",
       "2  Thank you for your inquiry. Our products suppo...  Returns and Exchanges   \n",
       "3  We appreciate you reaching out with your billi...   Billing and Payments   \n",
       "4  Thank you for your inquiry. Our product suppor...    Sales and Pre-Sales   \n",
       "\n",
       "                                               topic type_and_priority  \n",
       "0  Wesentlicher Sicherheitsvorfall Sehr geehrtes ...     Incident_high  \n",
       "1  Account Disruption Dear Customer Support Team,...     Incident_high  \n",
       "2  Query About Smart Home System Integration Feat...    Request_medium  \n",
       "3  Inquiry Regarding Invoice Details Dear Custome...       Request_low  \n",
       "4  Question About Marketing Agency Software Compa...    Problem_medium  "
      ]
     },
     "execution_count": 30,
     "metadata": {},
     "output_type": "execute_result"
    }
   ],
   "source": [
    "# changed observations\n",
    "print(data_clean1[\"topic\"][0])\n",
    "print(data_clean1[\"topic\"][0])\n"
   ]
  }
 ],
 "metadata": {
  "kernelspec": {
   "display_name": "cis_env",
   "language": "python",
   "name": "python3"
  },
  "language_info": {
   "codemirror_mode": {
    "name": "ipython",
    "version": 3
   },
   "file_extension": ".py",
   "mimetype": "text/x-python",
   "name": "python",
   "nbconvert_exporter": "python",
   "pygments_lexer": "ipython3",
   "version": "3.11.5"
  },
  "orig_nbformat": 4
 },
 "nbformat": 4,
 "nbformat_minor": 2
}
